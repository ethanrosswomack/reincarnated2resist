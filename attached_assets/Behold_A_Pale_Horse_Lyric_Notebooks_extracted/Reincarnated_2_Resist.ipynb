{
  "cells": [
    {
      "cell_type": "markdown",
      "metadata": {},
      "source": [
        "# Reincarnated 2 Resist\n",
        "**Album:** Behold A Pale Horse\n",
        "**Performed by:** Hawk Eye The Rapper\n",
        "**Label:** LulzSwag Records\n",
        "**Genre:** Rap\n",
        "\n---\n"
      ]
    },
    {
      "cell_type": "markdown",
      "metadata": {},
      "source": [
        "## Web Format Lyrics\n",
        "_(Insert formatted lyrics here)_\n"
      ]
    },
    {
      "cell_type": "markdown",
      "metadata": {},
      "source": [
        "## DistroKid / Apple Format\n",
        "_(Insert stripped/Apple-formatted lyrics here)_\n"
      ]
    },
    {
      "cell_type": "markdown",
      "metadata": {},
      "source": [
        "## EverLight\u2019s Rite: Symbolic Commentary\n",
        "_(Insert lyrical dissection, symbolic meaning, context here)_\n"
      ]
    }
  ],
  "metadata": {
    "kernelspec": {
      "display_name": "Python 3",
      "language": "python",
      "name": "python3"
    },
    "language_info": {
      "name": "python",
      "version": "3.8.10"
    }
  },
  "nbformat": 4,
  "nbformat_minor": 5
}