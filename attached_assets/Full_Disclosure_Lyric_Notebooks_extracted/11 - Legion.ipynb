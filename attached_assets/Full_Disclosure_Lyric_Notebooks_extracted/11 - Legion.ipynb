{
  "cells": [
    {
      "cell_type": "markdown",
      "metadata": {},
      "source": [
        "# \ud83c\udfb5 11 - Legion\n\n",
        "**Album:** Full Disclosure  \n",
        "**Performed by:** Hawk Eye  \n",
        "**Label:** LulzSwag Records  \n",
        "**Genre:** Rap  \n",
        "**Release Date:** 2020-03-01  \n",
        "**UPC:** 885007879183  \n",
        "**Dedicated to:** the late Max Spiers  \n\n",
        "---\n\n",
        "### Web Format Lyrics:\n\n",
        "_Lyrics for web display here..._\n\n",
        "---\n\n",
        "### DistroKid Format:\n\n",
        "_Lyrics formatted per Apple/DistroKid guidelines..._\n\n",
        "---\n\n",
        "### EverLight\u2019s Rite:\n\n",
        "_Commentary, insight, and symbolic dissection..._\n"
      ]
    }
  ],
  "metadata": {
    "kernelspec": {
      "display_name": "Python 3",
      "language": "python",
      "name": "python3"
    },
    "language_info": {
      "name": "python",
      "version": "3.10"
    }
  },
  "nbformat": 4,
  "nbformat_minor": 5
}